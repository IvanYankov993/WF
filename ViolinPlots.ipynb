{
 "cells": [
  {
   "cell_type": "code",
   "execution_count": 1,
   "metadata": {},
   "outputs": [
    {
     "data": {
      "text/plain": [
       "'/home/gabnmr/Documents/NMR_demo'"
      ]
     },
     "execution_count": 1,
     "metadata": {},
     "output_type": "execute_result"
    }
   ],
   "source": [
    "import os\n",
    "import fnmatch\n",
    "import re # https://www.guru99.com/python-regular-expressions-complete-tutorial.html\n",
    "\n",
    "import string\n",
    "import shutil\n",
    "import random\n",
    "import pandas as pd\n",
    "os.getcwd()"
   ]
  },
  {
   "cell_type": "code",
   "execution_count": 2,
   "metadata": {},
   "outputs": [],
   "source": [
    "import seaborn as sns\n",
    "import sklearn\n",
    "from sklearn.metrics import mean_squared_error"
   ]
  },
  {
   "cell_type": "code",
   "execution_count": 3,
   "metadata": {},
   "outputs": [],
   "source": [
    "import matplotlib.pyplot as plt\n",
    "# import matplotlib\n",
    "# import pickle"
   ]
  },
  {
   "cell_type": "markdown",
   "metadata": {},
   "source": [
    "# Functions: find, DNAanalysis & PAanalysis"
   ]
  },
  {
   "cell_type": "code",
   "execution_count": 4,
   "metadata": {},
   "outputs": [],
   "source": [
    "def find(pattern, path):\n",
    "    result = []\n",
    "    for root, dirs, files in os.walk(path):\n",
    "        for name in files:\n",
    "            if fnmatch.fnmatch(name, pattern):\n",
    "                result.append(os.path.join(root, name))\n",
    "    return result"
   ]
  },
  {
   "cell_type": "code",
   "execution_count": 47,
   "metadata": {},
   "outputs": [],
   "source": [
    "def DNAanalysis (DNA,inp,name,N):\n",
    "    dataR=pd.read_csv(DNA_rest[N],header=0,delim_whitespace=True,index_col=False,engine='python')\n",
    "    dataU=pd.read_csv(DNA_unrest[N],header=0,delim_whitespace=True,index_col=False,engine='python')\n",
    "    \n",
    "    dataR['R/U']='R'\n",
    "    dataU['R/U']='U'\n",
    "    \n",
    "    df_list=[dataR,dataU]\n",
    "    \n",
    "    \n",
    "    # dataR_d=dataR.describe()\n",
    "    # dataU_d=dataU.describe()\n",
    "    # dataR_d.to_csv(\"DNA_rest_{}.csv\".format(name))\n",
    "    # dataU_d.to_csv(\"DNA_unrest_{}.csv\".format(name))\n",
    "    \n",
    "    data=pd.concat(df_list)\n",
    "    # print(data)\n",
    "    for BP in list(data.columns[1:3]):\n",
    "        for var in list(data.columns[3:-1]):\n",
    "            # print(BP)\n",
    "            # print(var)\n",
    "            # rise/twist major or minor\n",
    "            if \"Rise\" in list(data.columns[3:-1]):\n",
    "                df = data.drop(data[data.Rise==0].index)\n",
    "            else:\n",
    "                df = data.drop(data[data.Minor==0].index)\n",
    "            \n",
    "            # sns.set_theme(style=\"whitegrid\")\n",
    "            # ax = sns.violinplot(data=df.iloc[:,1:],x=BP,y=var,hue=\"R/U\", split=True)\n",
    "            # # ax.set(ylim=(-80, 80))\n",
    "            # ax.legend(loc='upper right')\n",
    "            # fig = ax.get_figure()\n",
    "            # fig.savefig(\"DNA_{}_{}_{}_{}.png\".format(DNA,var,BP,name))\n",
    "            # # fig.show()\n",
    "            # fig.clf()\n",
    "    df.to_csv(\"Table_DNA_{}_{}.csv\".format(DNA,name))\n",
    "            \n",
    "            # ####problematic section###### memory leakage\n",
    "            # axx = df.plot.line(\"#Frame\",var)\n",
    "            # axx.legend(loc='upper right')\n",
    "            # # axx.figure.savefig(\"DNA_line_{}_{}_{}_{}.png\".format(DNA,var,BP,name))\n",
    "            # fig = axx.get_figure()\n",
    "            # fig.savefig(\"DNA_line_{}_{}_{}_{}.png\".format(DNA,var,BP,name))\n",
    "            # # fig.show()\n",
    "            # fig.clf()"
   ]
  },
  {
   "cell_type": "code",
   "execution_count": 6,
   "metadata": {},
   "outputs": [],
   "source": [
    "def analysis (inp,name,N):\n",
    "    s = ['s1','s2','s3','s4','s5','s6','s7','s8']\n",
    "    f = ['f2','f3','f4','f5','f6','f7','f8']\n",
    "    o = ['o1','o2','o3','o4','o5','o6','o7','o8']\n",
    "    \n",
    "    \n",
    "    dataR=pd.read_csv(PA_rest[N],header=0,delim_whitespace=True,index_col=False,engine='python')\n",
    "    dataU=pd.read_csv(PA_unrest[N],header=0,delim_whitespace=True,index_col=False,engine='python')\n",
    "    \n",
    "    dataR_d=dataR.describe()\n",
    "    dataU_d=dataU.describe()\n",
    "    dataR_d.to_csv(\"rest_{}.csv\".format(name))\n",
    "    dataU_d.to_csv(\"unrest_{}.csv\".format(name))\n",
    "    \n",
    "    dataR['R/U']='R'\n",
    "    dataU['R/U']='U'\n",
    "    \n",
    "    list_SFO=[s,f,o]\n",
    "    angle=[\"s\",\"f\",\"o\"]\n",
    "    angle_n=-1\n",
    "    for SFO in list_SFO:\n",
    "        angle_n=angle_n+1\n",
    "        df_list=[dataR.melt(id_vars=[\"#Frame\",\"R/U\"], \n",
    "                    value_vars=SFO,var_name=\"Angle\"),\n",
    "                 dataU.melt(id_vars=[\"#Frame\",\"R/U\"], \n",
    "                    value_vars=SFO,var_name=\"Angle\")]\n",
    "    # df_list=[dataR,dataU]\n",
    "        data=pd.concat(df_list)\n",
    "        # print(data)\n",
    "    \n",
    "        sns.set_theme(style=\"whitegrid\")\n",
    "        ax = sns.violinplot(data=data.iloc[:,1:],x=\"Angle\",y=\"value\",hue=\"R/U\", split=True)\n",
    "        ax.set(ylim=(-80, 80))\n",
    "        ax.legend(loc='upper right')\n",
    "        fig = ax.get_figure()\n",
    "    \n",
    "        fig.savefig(\"PA-dihedrals_{}_{}.png\".format(name,angle[angle_n]))\n",
    "        fig.clf()"
   ]
  },
  {
   "cell_type": "markdown",
   "metadata": {},
   "source": [
    "# run analysis\n",
    "\n",
    "1) Patterns _range s1-s20 or other if code is changes\n",
    "2) NB! file name (use find function) + Path Directory\n",
    "3) for loop (and input to PA analysis)\n"
   ]
  },
  {
   "cell_type": "code",
   "execution_count": 41,
   "metadata": {},
   "outputs": [
    {
     "name": "stdout",
     "output_type": "stream",
     "text": [
      "found a match! It is = s13\n",
      "found a match! It is = s4\n",
      "found a match! It is = s19\n",
      "found a match! It is = s8\n",
      "found a match! It is = s2\n"
     ]
    },
    {
     "data": {
      "text/plain": [
       "<Figure size 432x288 with 0 Axes>"
      ]
     },
     "metadata": {},
     "output_type": "display_data"
    }
   ],
   "source": [
    "patterns=[]\n",
    "for i in range(21):\n",
    "    patterns.append(\"s{}\".format(i))\n",
    "patterns.reverse()\n",
    "count=-1\n",
    "\n",
    "\n",
    "PA_rest=find('PA_phi_psi_omega_dihedrals', '/home/gabnmr/Documents/NMR_demo/GTAC_iPr/Run_0/fin_analysis_s_rest1/')\n",
    "PA_unrest=find('PA_phi_psi_omega_dihedrals', '/home/gabnmr/Documents/NMR_demo/GTAC_iPr/Run_0/fin_analysis_s_unrest1/')\n",
    "PA_unrest\n",
    "\n",
    "for i in PA_unrest:\n",
    "    count=count+1\n",
    "    for p in patterns:\n",
    "        if re.search(p,i):\n",
    "            print(\"found a match! It is = {}\".format(p))\n",
    "            analysis(i,p,count)\n",
    "            break\n"
   ]
  },
  {
   "cell_type": "markdown",
   "metadata": {},
   "source": [
    "# Run DNA analysis\n",
    "\n",
    "1) Patterns _range s1-s20 or other if code is changes\n",
    "2) NB! file name = DNA extension + core File Name + Path\n",
    "        These should be representative of cpptraj.\n",
    "3) for loop (and input to DNA analysis)"
   ]
  },
  {
   "cell_type": "code",
   "execution_count": 48,
   "metadata": {},
   "outputs": [
    {
     "name": "stdout",
     "output_type": "stream",
     "text": [
      "found a match! It is = s13\n",
      "found a match! It is = s4\n",
      "found a match! It is = s19\n",
      "found a match! It is = s8\n",
      "found a match! It is = s2\n",
      "found a match! It is = s13\n",
      "found a match! It is = s4\n",
      "found a match! It is = s19\n",
      "found a match! It is = s8\n",
      "found a match! It is = s2\n",
      "found a match! It is = s13\n",
      "found a match! It is = s4\n",
      "found a match! It is = s19\n",
      "found a match! It is = s8\n",
      "found a match! It is = s2\n"
     ]
    }
   ],
   "source": [
    "patterns=[]\n",
    "for i in range(21):\n",
    "    patterns.append(\"s{}\".format(i))\n",
    "patterns.reverse()\n",
    "\n",
    "\n",
    "DNA=[\"Helix\",\"BP\",\"BPstep\"]\n",
    "# 3DNA_GTAC_iPr\n",
    "for param in DNA:\n",
    "\n",
    "    DNA_rest=find('{}.3DNA_GTAC_iPr'.format(param), '/home/gabnmr/Documents/NMR_demo/GTAC_iPr/Run_0/fin_analysis_s_rest1/')\n",
    "    DNA_unrest=find('{}.3DNA_GTAC_iPr'.format(param), '/home/gabnmr/Documents/NMR_demo/GTAC_iPr/Run_0/fin_analysis_s_unrest1/')\n",
    "    \n",
    "    count=-1\n",
    "    for i in DNA_unrest:\n",
    "        count=count+1\n",
    "        for p in patterns:\n",
    "            if re.search(p,i):\n",
    "                print(\"found a match! It is = {}\".format(p))\n",
    "                DNAanalysis(param,i,p,count)\n",
    "                break"
   ]
  },
  {
   "cell_type": "code",
   "execution_count": null,
   "metadata": {},
   "outputs": [],
   "source": []
  },
  {
   "cell_type": "markdown",
   "metadata": {},
   "source": [
    "# Testing section"
   ]
  },
  {
   "cell_type": "code",
   "execution_count": 7,
   "metadata": {},
   "outputs": [
    {
     "data": {
      "text/plain": [
       "['/home/gabnmr/Documents/NMR_demo/GTAC_iPr/Run_0/fin_analysis_s_rest1/s2/BPstep.3DNA_GTAC_iPr',\n",
       " '/home/gabnmr/Documents/NMR_demo/GTAC_iPr/Run_0/fin_analysis_s_rest1/s2/BP.3DNA_GTAC_iPr',\n",
       " '/home/gabnmr/Documents/NMR_demo/GTAC_iPr/Run_0/fin_analysis_s_rest1/s2/Helix.3DNA_GTAC_iPr']"
      ]
     },
     "execution_count": 7,
     "metadata": {},
     "output_type": "execute_result"
    }
   ],
   "source": [
    "DNA_rest=find('*.3DNA_GTAC_iPr', '/home/gabnmr/Documents/NMR_demo/GTAC_iPr/Run_0/fin_analysis_s_rest1/s2')\n",
    "DNA_unrest=find('*.3DNA_GTAC_iPr', '/home/gabnmr/Documents/NMR_demo/GTAC_iPr/Run_0/fin_analysis_s_unrest1/s2')\n",
    "DNA_rest"
   ]
  },
  {
   "cell_type": "code",
   "execution_count": 39,
   "metadata": {},
   "outputs": [
    {
     "data": {
      "text/html": [
       "<div>\n",
       "<style scoped>\n",
       "    .dataframe tbody tr th:only-of-type {\n",
       "        vertical-align: middle;\n",
       "    }\n",
       "\n",
       "    .dataframe tbody tr th {\n",
       "        vertical-align: top;\n",
       "    }\n",
       "\n",
       "    .dataframe thead th {\n",
       "        text-align: right;\n",
       "    }\n",
       "</style>\n",
       "<table border=\"1\" class=\"dataframe\">\n",
       "  <thead>\n",
       "    <tr style=\"text-align: right;\">\n",
       "      <th></th>\n",
       "      <th>#Frame</th>\n",
       "      <th>BP1</th>\n",
       "      <th>BP2</th>\n",
       "      <th>Shift</th>\n",
       "      <th>Slide</th>\n",
       "      <th>Rise</th>\n",
       "      <th>Tilt</th>\n",
       "      <th>Roll</th>\n",
       "      <th>Twist</th>\n",
       "      <th>Zp</th>\n",
       "      <th>R/U</th>\n",
       "    </tr>\n",
       "  </thead>\n",
       "  <tbody>\n",
       "    <tr>\n",
       "      <th>0</th>\n",
       "      <td>1</td>\n",
       "      <td>7-18</td>\n",
       "      <td>8-17</td>\n",
       "      <td>0.8296</td>\n",
       "      <td>0.8366</td>\n",
       "      <td>2.6969</td>\n",
       "      <td>9.4923</td>\n",
       "      <td>-9.4667</td>\n",
       "      <td>34.8971</td>\n",
       "      <td>-1.9962</td>\n",
       "      <td>R</td>\n",
       "    </tr>\n",
       "    <tr>\n",
       "      <th>1</th>\n",
       "      <td>1</td>\n",
       "      <td>8-17</td>\n",
       "      <td>9-16</td>\n",
       "      <td>2.2378</td>\n",
       "      <td>1.1781</td>\n",
       "      <td>2.7646</td>\n",
       "      <td>-6.9762</td>\n",
       "      <td>8.1454</td>\n",
       "      <td>44.7756</td>\n",
       "      <td>-0.7805</td>\n",
       "      <td>R</td>\n",
       "    </tr>\n",
       "    <tr>\n",
       "      <th>2</th>\n",
       "      <td>1</td>\n",
       "      <td>9-16</td>\n",
       "      <td>10-15</td>\n",
       "      <td>0.6707</td>\n",
       "      <td>-0.8663</td>\n",
       "      <td>3.2014</td>\n",
       "      <td>6.3523</td>\n",
       "      <td>11.8579</td>\n",
       "      <td>22.9810</td>\n",
       "      <td>0.1782</td>\n",
       "      <td>R</td>\n",
       "    </tr>\n",
       "    <tr>\n",
       "      <th>3</th>\n",
       "      <td>2</td>\n",
       "      <td>7-18</td>\n",
       "      <td>8-17</td>\n",
       "      <td>1.0469</td>\n",
       "      <td>0.7629</td>\n",
       "      <td>3.0318</td>\n",
       "      <td>11.3698</td>\n",
       "      <td>-15.2971</td>\n",
       "      <td>35.2197</td>\n",
       "      <td>-1.2026</td>\n",
       "      <td>R</td>\n",
       "    </tr>\n",
       "    <tr>\n",
       "      <th>4</th>\n",
       "      <td>2</td>\n",
       "      <td>8-17</td>\n",
       "      <td>9-16</td>\n",
       "      <td>2.2362</td>\n",
       "      <td>1.1179</td>\n",
       "      <td>3.1143</td>\n",
       "      <td>0.3903</td>\n",
       "      <td>17.5276</td>\n",
       "      <td>44.8841</td>\n",
       "      <td>-0.6655</td>\n",
       "      <td>R</td>\n",
       "    </tr>\n",
       "    <tr>\n",
       "      <th>...</th>\n",
       "      <td>...</td>\n",
       "      <td>...</td>\n",
       "      <td>...</td>\n",
       "      <td>...</td>\n",
       "      <td>...</td>\n",
       "      <td>...</td>\n",
       "      <td>...</td>\n",
       "      <td>...</td>\n",
       "      <td>...</td>\n",
       "      <td>...</td>\n",
       "      <td>...</td>\n",
       "    </tr>\n",
       "    <tr>\n",
       "      <th>14995</th>\n",
       "      <td>4999</td>\n",
       "      <td>8-17</td>\n",
       "      <td>9-16</td>\n",
       "      <td>1.9693</td>\n",
       "      <td>0.5555</td>\n",
       "      <td>3.3680</td>\n",
       "      <td>13.5544</td>\n",
       "      <td>11.9943</td>\n",
       "      <td>40.8963</td>\n",
       "      <td>-0.3824</td>\n",
       "      <td>U</td>\n",
       "    </tr>\n",
       "    <tr>\n",
       "      <th>14996</th>\n",
       "      <td>4999</td>\n",
       "      <td>9-16</td>\n",
       "      <td>10-15</td>\n",
       "      <td>0.9595</td>\n",
       "      <td>-0.7230</td>\n",
       "      <td>3.1539</td>\n",
       "      <td>-2.0383</td>\n",
       "      <td>13.1232</td>\n",
       "      <td>25.9605</td>\n",
       "      <td>-0.4086</td>\n",
       "      <td>U</td>\n",
       "    </tr>\n",
       "    <tr>\n",
       "      <th>14997</th>\n",
       "      <td>5000</td>\n",
       "      <td>7-18</td>\n",
       "      <td>8-17</td>\n",
       "      <td>0.7378</td>\n",
       "      <td>-0.4926</td>\n",
       "      <td>3.4764</td>\n",
       "      <td>-1.1635</td>\n",
       "      <td>-2.9723</td>\n",
       "      <td>32.6591</td>\n",
       "      <td>-0.1087</td>\n",
       "      <td>U</td>\n",
       "    </tr>\n",
       "    <tr>\n",
       "      <th>14998</th>\n",
       "      <td>5000</td>\n",
       "      <td>8-17</td>\n",
       "      <td>9-16</td>\n",
       "      <td>1.6492</td>\n",
       "      <td>0.4874</td>\n",
       "      <td>3.6428</td>\n",
       "      <td>16.9381</td>\n",
       "      <td>13.1780</td>\n",
       "      <td>39.7141</td>\n",
       "      <td>-0.4442</td>\n",
       "      <td>U</td>\n",
       "    </tr>\n",
       "    <tr>\n",
       "      <th>14999</th>\n",
       "      <td>5000</td>\n",
       "      <td>9-16</td>\n",
       "      <td>10-15</td>\n",
       "      <td>0.8664</td>\n",
       "      <td>-0.5566</td>\n",
       "      <td>3.1305</td>\n",
       "      <td>3.2128</td>\n",
       "      <td>5.3702</td>\n",
       "      <td>26.3346</td>\n",
       "      <td>-0.6611</td>\n",
       "      <td>U</td>\n",
       "    </tr>\n",
       "  </tbody>\n",
       "</table>\n",
       "<p>29990 rows × 11 columns</p>\n",
       "</div>"
      ],
      "text/plain": [
       "       #Frame   BP1    BP2   Shift   Slide    Rise     Tilt     Roll    Twist  \\\n",
       "0           1  7-18   8-17  0.8296  0.8366  2.6969   9.4923  -9.4667  34.8971   \n",
       "1           1  8-17   9-16  2.2378  1.1781  2.7646  -6.9762   8.1454  44.7756   \n",
       "2           1  9-16  10-15  0.6707 -0.8663  3.2014   6.3523  11.8579  22.9810   \n",
       "3           2  7-18   8-17  1.0469  0.7629  3.0318  11.3698 -15.2971  35.2197   \n",
       "4           2  8-17   9-16  2.2362  1.1179  3.1143   0.3903  17.5276  44.8841   \n",
       "...       ...   ...    ...     ...     ...     ...      ...      ...      ...   \n",
       "14995    4999  8-17   9-16  1.9693  0.5555  3.3680  13.5544  11.9943  40.8963   \n",
       "14996    4999  9-16  10-15  0.9595 -0.7230  3.1539  -2.0383  13.1232  25.9605   \n",
       "14997    5000  7-18   8-17  0.7378 -0.4926  3.4764  -1.1635  -2.9723  32.6591   \n",
       "14998    5000  8-17   9-16  1.6492  0.4874  3.6428  16.9381  13.1780  39.7141   \n",
       "14999    5000  9-16  10-15  0.8664 -0.5566  3.1305   3.2128   5.3702  26.3346   \n",
       "\n",
       "           Zp R/U  \n",
       "0     -1.9962   R  \n",
       "1     -0.7805   R  \n",
       "2      0.1782   R  \n",
       "3     -1.2026   R  \n",
       "4     -0.6655   R  \n",
       "...       ...  ..  \n",
       "14995 -0.3824   U  \n",
       "14996 -0.4086   U  \n",
       "14997 -0.1087   U  \n",
       "14998 -0.4442   U  \n",
       "14999 -0.6611   U  \n",
       "\n",
       "[29990 rows x 11 columns]"
      ]
     },
     "execution_count": 39,
     "metadata": {},
     "output_type": "execute_result"
    }
   ],
   "source": [
    "DNA_rest=find('*.3DNA_GTAC_iPr', '/home/gabnmr/Documents/NMR_demo/GTAC_iPr/Run_0/fin_analysis_s_rest1/s2')\n",
    "DNA_unrest=find('*.3DNA_GTAC_iPr', '/home/gabnmr/Documents/NMR_demo/GTAC_iPr/Run_0/fin_analysis_s_unrest1/s2')\n",
    "\n",
    "dataR=pd.read_csv(DNA_rest[0],header=0,delim_whitespace=True,index_col=False,engine='python')\n",
    "dataU=pd.read_csv(DNA_unrest[0],header=0,delim_whitespace=True,index_col=False,engine='python')\n",
    "dataR['R/U']='R'\n",
    "dataU['R/U']='U'\n",
    "data_list=[dataR,dataU]\n",
    "\n",
    "data=pd.concat(data_list)\n",
    "# data.plot.scatter(\"#Frame\",5)\n",
    "# data\n",
    "# data.dropna()\n",
    "# data.to_csv(\"test.csv\")\n",
    "# Rise/twist, Minor/Major\n",
    "\n",
    "if \"Rise\" in list(data.columns[3:-1]):\n",
    "    df = data.drop(data[data.Rise==0].index)\n",
    "else:\n",
    "    df = data.drop(data[data.Minor==0].index)\n",
    "\n",
    "df\n",
    "\n",
    "# for var in list(data.columns[3:-1]):\n",
    "#     fig, axx = plt.subplots()\n",
    "#     axx = df.plot.line(\"#Frame\",var)\n",
    "#     axx.legend(loc='upper right')\n",
    "#     # sns.set_theme(style=\"whitegrid\")\n",
    "#     # axx = sns.lineplot(data=df,x=\"#Frame\",y=var)\n",
    "#     fig = axx.get_figure()\n",
    "#     fig.savefig(\"s2_DNA_line_{}_{}_{}_{}.png\".format(\"DNA\",var,\"BP\",\"name\"))\n",
    "#     # fig.clf()\n",
    "#     fig.gca().cla()\n",
    "\n",
    "\n",
    "\n",
    "# df.plot.line(\"#Frame\",5)\n",
    "\n",
    "# sns.set_theme(style=\"whitegrid\")\n",
    "# axx = sns.lineplot(data=df,x=\"#Frame\",y=\"Rise\")\n",
    "# # ax.set(ylim=(-80, 80))\n",
    "# axx.legend(loc='upper right')\n",
    "# fig2 = axx.get_figure()     \n",
    "# # fig=data.plot.line(\"#Frame\",var)\n",
    "# fig2.savefig(\"DNA_line_{}_{}_{}_{}.png\".format(DNA,var,BP,name))\n",
    "# fig2.clf()"
   ]
  },
  {
   "cell_type": "code",
   "execution_count": null,
   "metadata": {},
   "outputs": [],
   "source": [
    "df.set_index(['#Frame'], inplace=True)"
   ]
  },
  {
   "cell_type": "code",
   "execution_count": null,
   "metadata": {},
   "outputs": [],
   "source": [
    "tuple(data.BP1.unique())\n",
    "# dff=df.set_index(['#Frame'], inplace=True)\n",
    "df.pivot(index='#Frame', columns=['Shift'], values='Roll')\n"
   ]
  },
  {
   "cell_type": "code",
   "execution_count": null,
   "metadata": {},
   "outputs": [],
   "source": [
    "df"
   ]
  },
  {
   "cell_type": "code",
   "execution_count": null,
   "metadata": {},
   "outputs": [],
   "source": [
    "sns.set_theme(style=\"whitegrid\")\n",
    "axx = sns.lineplot(data=df,x=\"#Frame\",y=\"Rise\")\n",
    "# ax.set(ylim=(-80, 80))\n",
    "axx.legend(loc='upper right')\n",
    "fig2 = axx.get_figure()     \n",
    "# fig=data.plot.line(\"#Frame\",var)\n",
    "fig2.savefig(\"DNA_line_{}_{}_{}_{}.png\".format(DNA,var,BP,name))\n",
    "fig2.clf()"
   ]
  },
  {
   "cell_type": "code",
   "execution_count": 23,
   "metadata": {},
   "outputs": [],
   "source": [
    "fig=\"A\"\n",
    "axx=\"A\""
   ]
  },
  {
   "cell_type": "code",
   "execution_count": 19,
   "metadata": {},
   "outputs": [],
   "source": [
    "dff"
   ]
  },
  {
   "cell_type": "code",
   "execution_count": null,
   "metadata": {},
   "outputs": [],
   "source": [
    "data.plot.scatter(\"#Frame\")"
   ]
  },
  {
   "cell_type": "code",
   "execution_count": 274,
   "metadata": {},
   "outputs": [
    {
     "name": "stderr",
     "output_type": "stream",
     "text": [
      "*c* argument looks like a single numeric RGB or RGBA sequence, which should be avoided as value-mapping will have precedence in case its length matches with *x* & *y*.  Please use the *color* keyword-argument or provide a 2D array with a single row if you intend to specify the same RGB or RGBA value for all points.\n"
     ]
    },
    {
     "data": {
      "text/plain": [
       "<AxesSubplot:xlabel='#Frame', ylabel='Major'>"
      ]
     },
     "execution_count": 274,
     "metadata": {},
     "output_type": "execute_result"
    },
    {
     "data": {
      "image/png": "[encoded data removed]",
      "text/plain": [
       "<Figure size 432x288 with 1 Axes>"
      ]
     },
     "metadata": {},
     "output_type": "display_data"
    }
   ],
   "source": [
    "df = data.drop(data[data.Minor==0].index)\n",
    "df\n",
    "df.plot.scatter(\"#Frame\",\"Major\")"
   ]
  },
  {
   "cell_type": "code",
   "execution_count": 247,
   "metadata": {},
   "outputs": [
    {
     "name": "stdout",
     "output_type": "stream",
     "text": [
      "BP1\n",
      "X-disp\n",
      "BP1\n",
      "Y-disp\n",
      "BP1\n",
      "Rise\n",
      "BP1\n",
      "Incl.\n",
      "BP1\n",
      "Tip\n",
      "BP1\n",
      "Twist\n"
     ]
    },
    {
     "data": {
      "text/plain": [
       "#Frame      int64\n",
       "BP1        object\n",
       "BP2        object\n",
       "X-disp    float64\n",
       "Y-disp    float64\n",
       "Rise      float64\n",
       "Incl.     float64\n",
       "Tip       float64\n",
       "Twist     float64\n",
       "R/U        object\n",
       "dtype: object"
      ]
     },
     "execution_count": 247,
     "metadata": {},
     "output_type": "execute_result"
    },
    {
     "data": {
      "text/plain": [
       "<Figure size 432x288 with 0 Axes>"
      ]
     },
     "metadata": {},
     "output_type": "display_data"
    }
   ],
   "source": [
    "df_list=[dataR,dataU]\n",
    "data=pd.concat(df_list)\n",
    "data\n",
    "list(data.columns[1:3])\n",
    "for BP in list(data.columns[1:2]):\n",
    "    for var in list(data.columns[3:-1]):\n",
    "        # print(BP)\n",
    "        # print(var)\n",
    "        sns.set_theme(style=\"whitegrid\")\n",
    "        ax = sns.violinplot(data=data.iloc[:,1:],x=BP,y=var,hue=\"R/U\", split=True)\n",
    "        # ax.set(ylim=(-80, 80))\n",
    "        ax.legend(loc='upper right')\n",
    "        fig = ax.get_figure()\n",
    "        fig.savefig(\"DNA_{}_{}_{}.png\".format(\"Helix\",var,\"name\"))\n",
    "        # fig.show()\n",
    "        fig.clf()\n",
    "# data.dtypes"
   ]
  },
  {
   "cell_type": "code",
   "execution_count": 180,
   "metadata": {},
   "outputs": [
    {
     "data": {
      "text/html": [
       "<div>\n",
       "<style scoped>\n",
       "    .dataframe tbody tr th:only-of-type {\n",
       "        vertical-align: middle;\n",
       "    }\n",
       "\n",
       "    .dataframe tbody tr th {\n",
       "        vertical-align: top;\n",
       "    }\n",
       "\n",
       "    .dataframe thead th {\n",
       "        text-align: right;\n",
       "    }\n",
       "</style>\n",
       "<table border=\"1\" class=\"dataframe\">\n",
       "  <thead>\n",
       "    <tr style=\"text-align: right;\">\n",
       "      <th></th>\n",
       "      <th>#Frame</th>\n",
       "      <th>R/U</th>\n",
       "      <th>BP1</th>\n",
       "      <th>BP2</th>\n",
       "      <th>variable</th>\n",
       "      <th>value</th>\n",
       "    </tr>\n",
       "  </thead>\n",
       "  <tbody>\n",
       "    <tr>\n",
       "      <th>0</th>\n",
       "      <td>1</td>\n",
       "      <td>R</td>\n",
       "      <td>3-22</td>\n",
       "      <td>4-21</td>\n",
       "      <td>Shift</td>\n",
       "      <td>-0.0051</td>\n",
       "    </tr>\n",
       "    <tr>\n",
       "      <th>1</th>\n",
       "      <td>1</td>\n",
       "      <td>R</td>\n",
       "      <td>4-21</td>\n",
       "      <td>5-20</td>\n",
       "      <td>Shift</td>\n",
       "      <td>-2.7135</td>\n",
       "    </tr>\n",
       "    <tr>\n",
       "      <th>2</th>\n",
       "      <td>1</td>\n",
       "      <td>R</td>\n",
       "      <td>7-18</td>\n",
       "      <td>8-17</td>\n",
       "      <td>Shift</td>\n",
       "      <td>0.7327</td>\n",
       "    </tr>\n",
       "    <tr>\n",
       "      <th>3</th>\n",
       "      <td>1</td>\n",
       "      <td>R</td>\n",
       "      <td>8-17</td>\n",
       "      <td>9-16</td>\n",
       "      <td>Shift</td>\n",
       "      <td>2.0945</td>\n",
       "    </tr>\n",
       "    <tr>\n",
       "      <th>4</th>\n",
       "      <td>1</td>\n",
       "      <td>R</td>\n",
       "      <td>9-16</td>\n",
       "      <td>10-15</td>\n",
       "      <td>Shift</td>\n",
       "      <td>0.7256</td>\n",
       "    </tr>\n",
       "    <tr>\n",
       "      <th>...</th>\n",
       "      <td>...</td>\n",
       "      <td>...</td>\n",
       "      <td>...</td>\n",
       "      <td>...</td>\n",
       "      <td>...</td>\n",
       "      <td>...</td>\n",
       "    </tr>\n",
       "    <tr>\n",
       "      <th>74995</th>\n",
       "      <td>5000</td>\n",
       "      <td>U</td>\n",
       "      <td>3-22</td>\n",
       "      <td>4-21</td>\n",
       "      <td>Roll</td>\n",
       "      <td>-0.1710</td>\n",
       "    </tr>\n",
       "    <tr>\n",
       "      <th>74996</th>\n",
       "      <td>5000</td>\n",
       "      <td>U</td>\n",
       "      <td>4-21</td>\n",
       "      <td>5-20</td>\n",
       "      <td>Roll</td>\n",
       "      <td>2.9228</td>\n",
       "    </tr>\n",
       "    <tr>\n",
       "      <th>74997</th>\n",
       "      <td>5000</td>\n",
       "      <td>U</td>\n",
       "      <td>7-18</td>\n",
       "      <td>8-17</td>\n",
       "      <td>Roll</td>\n",
       "      <td>-18.7230</td>\n",
       "    </tr>\n",
       "    <tr>\n",
       "      <th>74998</th>\n",
       "      <td>5000</td>\n",
       "      <td>U</td>\n",
       "      <td>8-17</td>\n",
       "      <td>9-16</td>\n",
       "      <td>Roll</td>\n",
       "      <td>19.6944</td>\n",
       "    </tr>\n",
       "    <tr>\n",
       "      <th>74999</th>\n",
       "      <td>5000</td>\n",
       "      <td>U</td>\n",
       "      <td>9-16</td>\n",
       "      <td>10-15</td>\n",
       "      <td>Roll</td>\n",
       "      <td>9.7224</td>\n",
       "    </tr>\n",
       "  </tbody>\n",
       "</table>\n",
       "<p>150000 rows × 6 columns</p>\n",
       "</div>"
      ],
      "text/plain": [
       "       #Frame R/U   BP1    BP2 variable    value\n",
       "0           1   R  3-22   4-21    Shift  -0.0051\n",
       "1           1   R  4-21   5-20    Shift  -2.7135\n",
       "2           1   R  7-18   8-17    Shift   0.7327\n",
       "3           1   R  8-17   9-16    Shift   2.0945\n",
       "4           1   R  9-16  10-15    Shift   0.7256\n",
       "...       ...  ..   ...    ...      ...      ...\n",
       "74995    5000   U  3-22   4-21     Roll  -0.1710\n",
       "74996    5000   U  4-21   5-20     Roll   2.9228\n",
       "74997    5000   U  7-18   8-17     Roll -18.7230\n",
       "74998    5000   U  8-17   9-16     Roll  19.6944\n",
       "74999    5000   U  9-16  10-15     Roll   9.7224\n",
       "\n",
       "[150000 rows x 6 columns]"
      ]
     },
     "execution_count": 180,
     "metadata": {},
     "output_type": "execute_result"
    }
   ],
   "source": [
    "list_SFO=[s,f,o]\n",
    "angle=[\"s\",\"f\",\"o\"]\n",
    "angle_n=-1\n",
    "SFO=[\"Shift\",\"Slide\",\"Roll\"]\n",
    "df_list=[dataR.melt(id_vars=[\"#Frame\",\"R/U\",\"BP1\",\"BP2\"], \n",
    "            value_vars=[\"Shift\",\"Slide\",\"Roll\"]),\n",
    "         dataU.melt(id_vars=[\"#Frame\",\"R/U\",\"BP1\",\"BP2\"], \n",
    "            value_vars=[\"Shift\",\"Slide\",\"Roll\"])]\n",
    "\n",
    "\n",
    "# for SFO in list_SFO:\n",
    "#     angle_n=angle_n+1\n",
    "#     df_list=[dataR.melt(id_vars=[\"#Frame\",\"R/U\"], \n",
    "#                 value_vars=SFO,var_name=\"Shift\"),\n",
    "#              dataU.melt(id_vars=[\"#Frame\",\"R/U\"], \n",
    "#                 value_vars=SFO,var_name=\"Shift\")]\n",
    "# df_list=[dataR,dataU]\n",
    "data=pd.concat(df_list)\n",
    "data"
   ]
  },
  {
   "cell_type": "code",
   "execution_count": 227,
   "metadata": {},
   "outputs": [
    {
     "data": {
      "text/plain": [
       "('Shift', 'Slide', 'Rise', 'Tilt', 'Roll', 'Twist', 'Zp')"
      ]
     },
     "execution_count": 227,
     "metadata": {},
     "output_type": "execute_result"
    }
   ],
   "source": [
    "tuple(dataR.BP1.unique())\n",
    "tuple(dataR.BP2.unique())\n",
    "# tuple(dataR.Roll.unique())\n",
    "tuple(dataR.columns[3:])"
   ]
  },
  {
   "cell_type": "code",
   "execution_count": 133,
   "metadata": {},
   "outputs": [
    {
     "data": {
      "image/png": "[encoded data removed]",
      "text/plain": [
       "<Figure size 432x288 with 1 Axes>"
      ]
     },
     "metadata": {},
     "output_type": "display_data"
    }
   ],
   "source": [
    "sns.set_theme(style=\"whitegrid\")\n",
    "ax = sns.violinplot(data=dataR.iloc[:,1:],x=\"BP2\",y=\"Roll\")#,hue=\"R/U\", split=True)\n",
    "# ax.set(ylim=(-80, 80))\n",
    "# ax.legend(loc='upper right')\n",
    "# fig = ax.get_figure()\n",
    "# fig\n",
    "# fig.savefig(\"PA-dihedrals_{}_{}.png\".format(name,angle[angle_n]))\n",
    "# fig.clf()"
   ]
  },
  {
   "cell_type": "markdown",
   "metadata": {},
   "source": [
    "# Old Notebook, for RMSD and phi-psi PA dihedrals"
   ]
  },
  {
   "cell_type": "markdown",
   "metadata": {},
   "source": [
    "data=pd.read_csv(PA_rest[0],header=0,delim_whitespace=True,index_col=False,engine='python')\n",
    "data3=pd.read_csv(PA_unrest[0],header=0,delim_whitespace=True,index_col=False,engine='python')\n",
    "# data=data.add_prefix('R_')\n",
    "# data3=data3.add_prefix('U_')\n",
    "data['R/U']='R'\n",
    "data3['R/U']='U'\n",
    "data.T"
   ]
  },
  {
   "cell_type": "markdown",
   "metadata": {},
   "source": [
    "s = ['s1','s2','s3','s4','s5','s6','s7','s8']\n",
    "f = ['f1','f2','f3','f4','f5','f6','f7','f8']\n",
    "o = ['o1','o2','o3','o4','o5','o6','o7','o8']\n",
    "tuples = [('R' if x in s else 'R' if x in f else 'R' if x in o else 'other', x) for x in data.columns.tolist()]\n",
    "data.columns = pd.MultiIndex.from_tuples(tuples, names=['Modified', 'Original'])\n",
    "data"
   ]
  },
  {
   "cell_type": "markdown",
   "metadata": {},
   "source": [
    "s = ['s1','s2','s3','s4','s5','s6','s7','s8']\n",
    "f = ['f1','f2','f3','f4','f5','f6','f7','f8']\n",
    "o = ['o1','o2','o3','o4','o5','o6','o7','o8']\n",
    "tuples = [('U' if x in s else 'U' if x in f else 'U' if x in o else 'other', x) for x in data3.columns.tolist()]\n",
    "data3.columns = pd.MultiIndex.from_tuples(tuples, names=['Modified', 'Original'])\n",
    "data3"
   ]
  },
  {
   "cell_type": "markdown",
   "metadata": {},
   "source": [
    "\n",
    "import itertools\n",
    "\n",
    "s = ['s1','s2','s3','s4','s5','s6','s7','s8']\n",
    "f = ['f2','f3','f4','f5','f6','f7','f8']\n",
    "o = ['o1','o2','o3','o4','o5','o6','o7','o8']\n",
    "\n",
    "ab = itertools.chain(s,f,o)\n",
    "# list(ab)\n",
    "\n",
    "# data=data.melt(id_vars=[\"#Frame\",\"R/U\"], \n",
    "#         value_vars=s,var_name=\"Angle\")\n",
    "# data3=data3.melt(id_vars=[\"#Frame\",\"R/U\"], \n",
    "#         value_vars=s,var_name=\"Angle\")\n",
    "df_list=[data.melt(id_vars=[\"#Frame\",\"R/U\"], \n",
    "        value_vars=o,var_name=\"Angle\"),data3.melt(id_vars=[\"#Frame\",\"R/U\"], \n",
    "        value_vars=o,var_name=\"Angle\")]\n",
    "data4=pd.concat(df_list)\n",
    "data4\n",
    "\n",
    "# df_list=[data,data3]\n",
    "# data4=pd.concat(df_list)\n",
    "data4"
   ]
  },
  {
   "cell_type": "markdown",
   "metadata": {},
   "source": [
    "sns.set_theme(style=\"whitegrid\")\n",
    "\n",
    "ax = sns.violinplot(data=data4.iloc[:,1:],x=\"Angle\",y=\"value\",hue=\"R/U\", split=True)\n",
    "# ax = sns.violinplot(data=data3.iloc[: , 1:], split=True)\n",
    "\n"
   ]
  },
  {
   "cell_type": "markdown",
   "metadata": {},
   "source": [
    "#Simulation results\n",
    "1) Report RMSD vs frame 501\n",
    "2) Add Configurations that represent specific RMSD\n",
    "3) repeat 1 adn 2 for the fivve s....\n",
    "\n",
    "PA results\n",
    "1) report dihedrals  \n",
    "    a) Violin plot using the 3 categorical variable approach (set Y axi limit to 60 degreees)\n",
    "    b) slices description table (mean, min, max, confidence range)\n",
    "    c) PA only representation + highlighte angles by scheme\n",
    "    \n",
    "DNA results\n",
    "\n",
    "1) report 3DNA parameters\n",
    "    a) based on BP  report (3 categorical vairable appraoc\n",
    "    b) Major,minor, Otherkey BPparameters (2-3 more\n",
    "    b) slice description table mean min max,\n",
    "    c) depiction of the images.\n",
    "    \n",
    "Free Energy calc....\n",
    "\n",
    "Ensemble of structures, stacked over one another."
   ]
  },
  {
   "cell_type": "markdown",
   "metadata": {},
   "source": [
    "sns.set_theme(style=\"whitegrid\")\n",
    "data2=data.iloc[: , 1:]\n",
    "ax = sns.violinplot(data=data2, split=True)\n",
    "ax = sns.violinplot(data=data3.iloc[: , 1:], split=True)"
   ]
  },
  {
   "cell_type": "markdown",
   "metadata": {},
   "source": [
    "i=5\n",
    "dff=data\n",
    "x_true=dff.iloc[:,i]\n",
    "x_true\n",
    "y_pred=dff.iloc[:,i+8]\n",
    "y_pred\n",
    "y_pred2=dff.iloc[:,0]\n",
    "# # i=i+1\n",
    "# rmse=sklearn.metrics.mean_squared_error(y_pred2, y_pred)\n",
    "# r2=sklearn.metrics.r2_score(y_pred2, y_pred)\n",
    "# rmse1=sklearn.metrics.mean_squared_error(y_pred2, x_true)\n",
    "# r21=sklearn.metrics.r2_score(y_pred2, x_true)\n",
    "# print(rmse, rmse1)\n",
    "# print(r2, r21)\n",
    "\n",
    "# plt.plot(y_pred2, y_pred)\n",
    "plt.plot(y_pred2, x_true)\n",
    "\n",
    "plt.xlim([0, 5000])\n",
    "plt.ylim([-360/4, 360/4])\n",
    "plt.xlabel('x')\n",
    "plt.ylabel('y')\n",
    "plt.show()\n",
    "print(x_true-y_pred)"
   ]
  },
  {
   "cell_type": "markdown",
   "metadata": {},
   "source": [
    "data.dtypes"
   ]
  },
  {
   "cell_type": "markdown",
   "metadata": {},
   "source": [
    "data.describe()"
   ]
  },
  {
   "cell_type": "markdown",
   "metadata": {},
   "source": [
    "sns.set_theme(style=\"whitegrid\")\n",
    "data2=data.iloc[: , 1:]\n",
    "ax = sns.violinplot(data=data2)"
   ]
  },
  {
   "cell_type": "markdown",
   "metadata": {},
   "source": [
    "data=pd.read_csv('PA_phi_psi_omega_dihedrals',header=None)\n",
    "print(data)"
   ]
  },
  {
   "cell_type": "markdown",
   "metadata": {},
   "source": [
    "data2=pd.read_csv('violin_test.csv',index_col='#Frame')\n",
    "data2.describe()\n",
    "df=data2.columns"
   ]
  },
  {
   "cell_type": "markdown",
   "metadata": {},
   "source": [
    "#dna=pd.read_csv('BP.3DNA_GTAC_iPr',index_col='#Frame')"
   ]
  },
  {
   "cell_type": "markdown",
   "metadata": {},
   "source": [
    "import seaborn as sns\n",
    "#data3=data2.drop(columns=['s1', 'o1', 'f2', 's2', 'o2', 'f3', 's3', 'o3', 'f4', 's4', 'o4', 'f5',\n",
    "#       's5', 'o5', 'f6', 's6', 'o6', 'f7', 's7', 'o7', 'f8', 's8', 'o8'])\n",
    "sns.set_theme(style=\"whitegrid\")\n",
    "\n",
    "ax = sns.violinplot(data=data2)\n",
    "#https://chartio.com/learn/charts/violin-plot-complete-guide/\n",
    "#PA in complex micro secomd"
   ]
  },
  {
   "cell_type": "markdown",
   "metadata": {},
   "source": [
    "import seaborn as sns\n",
    "data3=data2.drop(columns=['s1', 's2','s3', 's4', \n",
    "                          's5', 's6', 's7', 's8'])\n",
    "sns.set_theme(style=\"whitegrid\")\n",
    "\n",
    "ax = sns.violinplot(data=data3)\n",
    "#https://chartio.com/learn/charts/violin-plot-complete-guide/"
   ]
  },
  {
   "cell_type": "markdown",
   "metadata": {},
   "source": [
    "import seaborn as sns\n",
    "data3=data2.drop(columns=['f2', 'f3', 'f4', 'f5',\n",
    "      'f6', 'f7', 'f8'])\n",
    "sns.set_theme(style=\"whitegrid\")\n",
    "\n",
    "ax = sns.violinplot(data=data3)\n",
    "#https://chartio.com/learn/charts/violin-plot-complete-guide/"
   ]
  },
  {
   "cell_type": "markdown",
   "metadata": {},
   "source": [
    "import seaborn as sns\n",
    "data3=data2.drop(columns=[ 'o1', 'f2', 'o2', 'f3', 'o3', 'f4', 'o4', 'f5',\n",
    "        'o5', 'f6', 'o6', 'f7',  'o7', 'f8', 'o8'])\n",
    "sns.set_theme(style=\"whitegrid\")\n",
    "\n",
    "ax = sns.violinplot(data=data3)\n",
    "#https://chartio.com/learn/charts/violin-plot-complete-guide/\n",
    "plt.savefig(\"S1-S8_GTAC.png\")"
   ]
  },
  {
   "cell_type": "code",
   "execution_count": null,
   "metadata": {},
   "outputs": [],
   "source": [
    "#Plot Free and Bound version of a PA. See phi, psi angle distributions.\n",
    "\n",
    "# compare the distribution between NMR restrained version and non NMR restrined version to Free PA\n",
    "\n",
    "# Draw a picture of where f# s# and o# lie\n",
    "\n"
   ]
  },
  {
   "cell_type": "code",
   "execution_count": null,
   "metadata": {},
   "outputs": [],
   "source": [
    "# plot Free and Complex version fo DNA parameters and their distributions\n",
    "\n",
    "# compare the NMR restrained to non NMR restrained\n",
    "\n",
    "# compare the above to the free version (NMR restrained and non NMR resta"
   ]
  },
  {
   "cell_type": "code",
   "execution_count": null,
   "metadata": {},
   "outputs": [],
   "source": [
    "#dna_parm=pd.read_"
   ]
  },
  {
   "cell_type": "code",
   "execution_count": null,
   "metadata": {},
   "outputs": [],
   "source": [
    "\n",
    "#The Free PA and bounded PA phi psi and omega torsion angles show that there is a dominnant induced conformaiton for the PA when in complex.\n",
    "\n",
    "#It would be worth while to compare the distribution of DNA complex and free DNA and see whether there is induced fit as well or it adops a particular conformaiton \n",
    "#for a much longer period of time (shifting the distribution)\n",
    "\n",
    "#Find correlation or a parameter that can monitor this - a distance between phoshate back bones, change in total surfaace area. \n",
    "\n",
    "# ask the questions whether ligands with a conformaiton distribution closer to the bond state are more favourable to bind there.\n",
    "# ask what and how is the enthalpy and entropy change caused by this induced fit.\n",
    "# think about how docking protocols should be made in place.\n",
    "# ask how FEP can be helpful. "
   ]
  },
  {
   "cell_type": "code",
   "execution_count": 13,
   "metadata": {},
   "outputs": [],
   "source": [
    "# compare to other complexwes - Hoegstaff ligand? Linear,hairpin, \n",
    "\n",
    "#MM/PBSA, MM/GBSA  (try, quiqer but less accurate)(generalised born) MM/3DRISM (exp)\n",
    "#PBSA - amber manual"
   ]
  },
  {
   "cell_type": "code",
   "execution_count": null,
   "metadata": {},
   "outputs": [],
   "source": []
  }
 ],
 "metadata": {
  "kernelspec": {
   "display_name": "Python 3 (ipykernel)",
   "language": "python",
   "name": "python3"
  },
  "language_info": {
   "codemirror_mode": {
    "name": "ipython",
    "version": 3
   },
   "file_extension": ".py",
   "mimetype": "text/x-python",
   "name": "python",
   "nbconvert_exporter": "python",
   "pygments_lexer": "ipython3",
   "version": "3.9.12"
  }
 },
 "nbformat": 4,
 "nbformat_minor": 4
}
